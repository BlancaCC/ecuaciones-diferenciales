{
 "cells": [
  {
   "cell_type": "markdown",
   "metadata": {},
   "source": [
    "# Cálculo de estabilidad a partir de valores propios y matriz de Jordan \n",
    "\n",
    "## Caracterización de estabilidad ecuaciones lineales de coenficientes constantes  \n",
    "\n",
    "\n",
    "\n",
    "Sea $A \\in M_d( \\mathbb R)$,  $\\sigma(A) = \\{ \\lambda_1, ..., \\lambda_d \\}$ el radio espectral, es decir el conjunto de valores própios de $A$. \n",
    "Denotaremos por $m(\\lambda_i)$ a la multiplicidad algebraica, (el número de veces que aparece cierto vector en el radio espectral. \n",
    "\n",
    "La dimensión geomtrica es la dimensión del espacio asociado, calculada como: $dim E_{\\lambda _i} = dim_ker( A - \\lambda_i I) - rango(A - \\lambda_i I)$, a efectos prácticas para nosotros el número de filas que sean cero salvo el elemento de la diagonal y que coincidad con ese valor propio. \n",
    "\n",
    "Llamaremos a $\\mu(A)$ al máximo de las partes reales del radio espectral. \n",
    "\n",
    "Tenemos pues que \n",
    "1. Si $\\mu(A) < 0$ entonces EDO lineal es **asintóticamente estable**. \n",
    "2. Si $\\mu(A) > 0$ entonces EDO lineal es **inestable**.\n",
    "3. Si $\\mu(A) =  0$ y la dimensión algebraica coincide con la geométrica para todo valor propio, entonces EDO lineal es **estable** (No asintóticamente estable).\n",
    "4. Si $\\mu(A) =  0$ y la dimensión algebraica NO coincide con la geométrica para algún valor propio, entonces EDO lineal es **inestable**.\n",
    "\n",
    "\n",
    "### Documentación: \n",
    "- Valores propios: https://docs.sympy.org/latest/tutorial/matrices.html\n",
    "\n",
    "- Matriz de jordan: https://docs.sympy.org/latest/modules/matrices/matrices.html\n",
    "\n",
    "\n",
    "- Para cálculo numérico: https://www.math.ubc.ca/~pwalls/math-python/linear-algebra/eigenvalues-eigenvectors/\n"
   ]
  },
  {
   "cell_type": "markdown",
   "metadata": {},
   "source": [
    "Análisis para la matriz $A$:\n",
    "\n",
    "$\\mu(A) = 0$ y para $i y -i$ la multiplicidad algebraica no coinciden con la geométrica, luego no es estable. "
   ]
  },
  {
   "cell_type": "code",
   "execution_count": 4,
   "metadata": {},
   "outputs": [
    {
     "name": "stdout",
     "output_type": "stream",
     "text": [
      "Jordan Matrix: \n"
     ]
    },
    {
     "data": {
      "text/latex": [
       "$\\displaystyle \\left[\\begin{matrix}-1 & 0 & 0 & 0 & 0\\\\0 & - i & 1 & 0 & 0\\\\0 & 0 & - i & 0 & 0\\\\0 & 0 & 0 & i & 1\\\\0 & 0 & 0 & 0 & i\\end{matrix}\\right]$"
      ],
      "text/plain": [
       "Matrix([\n",
       "[-1,  0,  0, 0, 0],\n",
       "[ 0, -I,  1, 0, 0],\n",
       "[ 0,  0, -I, 0, 0],\n",
       "[ 0,  0,  0, I, 1],\n",
       "[ 0,  0,  0, 0, I]])"
      ]
     },
     "metadata": {},
     "output_type": "display_data"
    },
    {
     "name": "stdout",
     "output_type": "stream",
     "text": [
      "valores propios: {-1: 1, -I: 2, I: 2}\n"
     ]
    },
    {
     "ename": "AttributeError",
     "evalue": "'MutableDenseMatrix' object has no attribute 'sp'",
     "output_type": "error",
     "traceback": [
      "\u001b[0;31m---------------------------------------------------------------------------\u001b[0m",
      "\u001b[0;31mAttributeError\u001b[0m                            Traceback (most recent call last)",
      "\u001b[0;32m<ipython-input-4-23b24bea275d>\u001b[0m in \u001b[0;36m<module>\u001b[0;34m\u001b[0m\n\u001b[1;32m     18\u001b[0m \u001b[0;34m\u001b[0m\u001b[0m\n\u001b[1;32m     19\u001b[0m \u001b[0mt\u001b[0m \u001b[0;34m=\u001b[0m \u001b[0msp\u001b[0m\u001b[0;34m.\u001b[0m\u001b[0msymbols\u001b[0m\u001b[0;34m(\u001b[0m\u001b[0;34m\"t\"\u001b[0m\u001b[0;34m)\u001b[0m\u001b[0;34m\u001b[0m\u001b[0;34m\u001b[0m\u001b[0m\n\u001b[0;32m---> 20\u001b[0;31m \u001b[0;34m(\u001b[0m\u001b[0mA\u001b[0m\u001b[0;34m*\u001b[0m\u001b[0mt\u001b[0m\u001b[0;34m)\u001b[0m\u001b[0;34m.\u001b[0m\u001b[0msp\u001b[0m\u001b[0;34m.\u001b[0m\u001b[0mexp\u001b[0m\u001b[0;34m(\u001b[0m\u001b[0;34m)\u001b[0m\u001b[0;34m\u001b[0m\u001b[0;34m\u001b[0m\u001b[0m\n\u001b[0m",
      "\u001b[0;31mAttributeError\u001b[0m: 'MutableDenseMatrix' object has no attribute 'sp'"
     ]
    }
   ],
   "source": [
    "import sympy as sp\n",
    "\n",
    "A = sp.Matrix ( \n",
    "    [\n",
    "        [2,    2,  3, -3, -1],\n",
    "        [1,    3,  4, -5, 0],\n",
    "        [-10, -6,-13, 10, 4],\n",
    "        [-7, -2, -7, 4, 3], \n",
    "        [-8, -4, -10, 6, 3]\n",
    "    ]\n",
    ")\n",
    "P , J = A.jordan_form() # A = P J P^{-1}\n",
    "\n",
    "print('Jordan Matrix: ')\n",
    "display(J)\n",
    "\n",
    "print('valores propios:', A.eigenvals()) # dicionario con valor propios: multiplicidad algebraica\n",
    "\n",
    "t = sp.symbols(\"t\")\n",
    "(A*t).sp.exp()"
   ]
  },
  {
   "cell_type": "code",
   "execution_count": 2,
   "metadata": {},
   "outputs": [
    {
     "name": "stdout",
     "output_type": "stream",
     "text": [
      "[-1.+0.j  0.+1.j  0.-1.j -0.+1.j -0.-1.j]\n"
     ]
    }
   ],
   "source": [
    "# Por si acaso el cálculo simbólico no funciona utilizar numpy: \n",
    "\n",
    "import numpy as np\n",
    "import matplotlib.pyplot as plt\n",
    "import scipy.linalg as la\n",
    "\n",
    "\n",
    "# Matriz \n",
    "\n",
    "M = np.array( \n",
    "    [\n",
    "        [2,    2,  3, -3, -1],\n",
    "        [1,    3,  4, -5, 0],\n",
    "        [-10, -6,-13, 10, 4],\n",
    "        [-7, -2, -7, 4, 3], \n",
    "        [-8, -4, -10, 6, 3]\n",
    "    ]\n",
    ")\n",
    "\n",
    "eigvals, eigvecs = la.eig(M) # almacena en 0 los valores propios, en 1 lso vectoris propios\n",
    "\n",
    "\n",
    "#np.set_printoptions(precision=2)\n",
    "print( np.around(eigvals, decimals = 5))\n",
    "\n"
   ]
  },
  {
   "cell_type": "code",
   "execution_count": 5,
   "metadata": {},
   "outputs": [
    {
     "name": "stdout",
     "output_type": "stream",
     "text": [
      "Jordan Matrix: \n"
     ]
    },
    {
     "data": {
      "text/latex": [
       "$\\displaystyle \\left[\\begin{matrix}-2 & 0 & 0\\\\0 & 1 & 0\\\\0 & 0 & 2\\end{matrix}\\right]$"
      ],
      "text/plain": [
       "Matrix([\n",
       "[-2, 0, 0],\n",
       "[ 0, 1, 0],\n",
       "[ 0, 0, 2]])"
      ]
     },
     "metadata": {},
     "output_type": "display_data"
    },
    {
     "name": "stdout",
     "output_type": "stream",
     "text": [
      "valores propios: {2: 1, 1: 1, -2: 1}\n"
     ]
    }
   ],
   "source": [
    "A = sp.Matrix ( \n",
    "    [\n",
    "        [2,   6,  -5],\n",
    "        [ 2,  10,  -7], \n",
    "        [4,  18 , -13]\n",
    "    ]\n",
    ")\n",
    "A = sp.Matrix ( \n",
    "    [\n",
    "        [ 6,  18, -13],\n",
    "        [4, 16, -11], \n",
    "        [8, 30, -21]\n",
    "    ]\n",
    ")\n",
    "\n",
    "P , J = A.jordan_form() # A = P J P^{-1}\n",
    "\n",
    "print('Jordan Matrix: ')\n",
    "display(J)\n",
    "\n",
    "print('valores propios:', A.eigenvals()) # dicionario con valor propios: multiplicidad algebraica\n"
   ]
  }
 ],
 "metadata": {
  "kernelspec": {
   "display_name": "Python 3",
   "language": "python",
   "name": "python3"
  },
  "language_info": {
   "codemirror_mode": {
    "name": "ipython",
    "version": 3
   },
   "file_extension": ".py",
   "mimetype": "text/x-python",
   "name": "python",
   "nbconvert_exporter": "python",
   "pygments_lexer": "ipython3",
   "version": "3.8.5"
  }
 },
 "nbformat": 4,
 "nbformat_minor": 4
}
