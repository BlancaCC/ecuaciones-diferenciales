{
 "cells": [
  {
   "cell_type": "markdown",
   "metadata": {},
   "source": [
    "# Comportamiento matrices de Jordan  \n"
   ]
  },
  {
   "cell_type": "code",
   "execution_count": 12,
   "metadata": {},
   "outputs": [
    {
     "data": {
      "text/latex": [
       "$\\displaystyle \\left[\\begin{matrix}a^{n} & a^{n - 1} n & \\frac{a^{n - 2} n \\left(n - 1\\right)}{2} & \\frac{a^{n - 3} n \\left(n - 2\\right) \\left(n - 1\\right)}{6} & \\frac{a^{n - 4} n \\left(n - 3\\right) \\left(n - 2\\right) \\left(n - 1\\right)}{24}\\\\0 & a^{n} & a^{n - 1} n & \\frac{a^{n - 2} n \\left(n - 1\\right)}{2} & \\frac{a^{n - 3} n \\left(n - 2\\right) \\left(n - 1\\right)}{6}\\\\0 & 0 & a^{n} & a^{n - 1} n & \\frac{a^{n - 2} n \\left(n - 1\\right)}{2}\\\\0 & 0 & 0 & a^{n} & a^{n - 1} n\\\\0 & 0 & 0 & 0 & a^{n}\\end{matrix}\\right]$"
      ],
      "text/plain": [
       "Matrix([\n",
       "[a**n, a**(n - 1)*n, a**(n - 2)*n*(n - 1)/2, a**(n - 3)*n*(n - 2)*(n - 1)/6, a**(n - 4)*n*(n - 3)*(n - 2)*(n - 1)/24],\n",
       "[   0,         a**n,           a**(n - 1)*n,         a**(n - 2)*n*(n - 1)/2,          a**(n - 3)*n*(n - 2)*(n - 1)/6],\n",
       "[   0,            0,                   a**n,                   a**(n - 1)*n,                  a**(n - 2)*n*(n - 1)/2],\n",
       "[   0,            0,                      0,                           a**n,                            a**(n - 1)*n],\n",
       "[   0,            0,                      0,                              0,                                    a**n]])"
      ]
     },
     "execution_count": 12,
     "metadata": {},
     "output_type": "execute_result"
    }
   ],
   "source": [
    "from sympy import *\n",
    "\n",
    "x, y, z = symbols('a y n')\n",
    "\n",
    "M = Matrix([[x,1,0,0,0], [0,x,1,0,0],[0,0,x,1,0],[0,0,0,x,1],[0,0,0,0,x]])\n",
    "\n",
    "M**z"
   ]
  }
 ],
 "metadata": {
  "kernelspec": {
   "display_name": "Python 3",
   "language": "python",
   "name": "python3"
  },
  "language_info": {
   "codemirror_mode": {
    "name": "ipython",
    "version": 3
   },
   "file_extension": ".py",
   "mimetype": "text/x-python",
   "name": "python",
   "nbconvert_exporter": "python",
   "pygments_lexer": "ipython3",
   "version": "3.8.5"
  }
 },
 "nbformat": 4,
 "nbformat_minor": 4
}
