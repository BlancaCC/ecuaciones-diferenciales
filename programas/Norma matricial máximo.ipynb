{
 "cells": [
  {
   "cell_type": "markdown",
   "metadata": {},
   "source": [
    "### Norma  Matricial del máximo  "
   ]
  },
  {
   "cell_type": "code",
   "execution_count": 20,
   "metadata": {},
   "outputs": [
    {
     "data": {
      "text/plain": [
       "[3, 12, 21]"
      ]
     },
     "metadata": {},
     "output_type": "display_data"
    },
    {
     "data": {
      "text/plain": [
       "[1.0, 1.0, 0.5]"
      ]
     },
     "execution_count": 20,
     "metadata": {},
     "output_type": "execute_result"
    }
   ],
   "source": [
    "M = [  [i*3+j for j in range(3)] for i in range(3)]\n",
    "\n",
    "\n",
    "def norm(M):\n",
    "    l = [ sum( [ abs(M[i][j]) for j in range(len(M))  ])  for i in range (len(M[0]))]\n",
    "    display(l)\n",
    "    return max(l)\n",
    "\n",
    "\n",
    "norm(M)\n",
    "\n",
    "\n",
    "def fact (l):\n",
    "    ret = 1\n",
    "    for i in range(2,l+1):\n",
    "        ret *= i\n",
    "    return ret\n",
    "\n",
    "t = 1\n",
    "n = 3\n",
    "[ t** i /fact(i) for i in range(n) ]"
   ]
  },
  {
   "cell_type": "code",
   "execution_count": 25,
   "metadata": {},
   "outputs": [
    {
     "name": "stdout",
     "output_type": "stream",
     "text": [
      "Matriz A\n"
     ]
    },
    {
     "data": {
      "text/latex": [
       "$\\displaystyle \\left[\\begin{matrix}-4 + 3 i & 0 & 0 & 0 & 0\\\\0 & -4 - 3 i & 0 & 0 & 0\\\\0 & 0 & -2 & 1 & 0\\\\0 & 0 & 0 & -2 & 1\\\\0 & 0 & 0 & 0 & -2\\end{matrix}\\right]$"
      ],
      "text/plain": [
       "Matrix([\n",
       "[-4 + 3*I,        0,  0,  0,  0],\n",
       "[       0, -4 - 3*I,  0,  0,  0],\n",
       "[       0,        0, -2,  1,  0],\n",
       "[       0,        0,  0, -2,  1],\n",
       "[       0,        0,  0,  0, -2]])"
      ]
     },
     "metadata": {},
     "output_type": "display_data"
    },
    {
     "name": "stdout",
     "output_type": "stream",
     "text": [
      "Matriz de jorda\n"
     ]
    },
    {
     "data": {
      "text/latex": [
       "$\\displaystyle \\left[\\begin{matrix}-2 & 1 & 0 & 0 & 0\\\\0 & -2 & 1 & 0 & 0\\\\0 & 0 & -2 & 0 & 0\\\\0 & 0 & 0 & -4 - 3 i & 0\\\\0 & 0 & 0 & 0 & -4 + 3 i\\end{matrix}\\right]$"
      ],
      "text/plain": [
       "Matrix([\n",
       "[-2,  1,  0,        0,        0],\n",
       "[ 0, -2,  1,        0,        0],\n",
       "[ 0,  0, -2,        0,        0],\n",
       "[ 0,  0,  0, -4 - 3*I,        0],\n",
       "[ 0,  0,  0,        0, -4 + 3*I]])"
      ]
     },
     "metadata": {},
     "output_type": "display_data"
    },
    {
     "name": "stdout",
     "output_type": "stream",
     "text": [
      "La matrix exponencial es:\n"
     ]
    },
    {
     "data": {
      "text/latex": [
       "$\\displaystyle \\left[\\begin{matrix}e^{t \\left(-4 + 3 i\\right)} & 0 & 0 & 0 & 0\\\\0 & e^{t \\left(-4 - 3 i\\right)} & 0 & 0 & 0\\\\0 & 0 & e^{- 2 t} & t e^{- 2 t} & \\frac{t^{2} e^{- 2 t}}{2}\\\\0 & 0 & 0 & e^{- 2 t} & t e^{- 2 t}\\\\0 & 0 & 0 & 0 & e^{- 2 t}\\end{matrix}\\right]$"
      ],
      "text/plain": [
       "Matrix([\n",
       "[exp(t*(-4 + 3*I)),                 0,         0,           0,                0],\n",
       "[                0, exp(t*(-4 - 3*I)),         0,           0,                0],\n",
       "[                0,                 0, exp(-2*t), t*exp(-2*t), t**2*exp(-2*t)/2],\n",
       "[                0,                 0,         0,   exp(-2*t),      t*exp(-2*t)],\n",
       "[                0,                 0,         0,           0,        exp(-2*t)]])"
      ]
     },
     "metadata": {},
     "output_type": "display_data"
    }
   ],
   "source": [
    "from sympy import *\n",
    "\n",
    "A = Matrix([\n",
    "    [-4 + 3*I, 0, 0, 0, 0],\n",
    "    [0, -4 - 3*I, 0, 0, 0],\n",
    "    [0, 0, -2, 1, 0],\n",
    "    [0, 0, 0, -2, 1],\n",
    "    [0, 0, 0, 0, -2]\n",
    "])\n",
    "t = symbols(\"t\")\n",
    "\n",
    "_, Jordan = A.jordan_form()\n",
    "\n",
    "print(f\"Matriz A\")\n",
    "display(A)\n",
    "print(\"Matriz de jorda\")\n",
    "display(Jordan)\n",
    "\n",
    "matriz_exponencial = (A * t).exp()\n",
    "print(\"La matrix exponencial es:\")\n",
    "display(matriz_exponencial)\n"
   ]
  }
 ],
 "metadata": {
  "kernelspec": {
   "display_name": "Python 3",
   "language": "python",
   "name": "python3"
  },
  "language_info": {
   "codemirror_mode": {
    "name": "ipython",
    "version": 3
   },
   "file_extension": ".py",
   "mimetype": "text/x-python",
   "name": "python",
   "nbconvert_exporter": "python",
   "pygments_lexer": "ipython3",
   "version": "3.8.5"
  }
 },
 "nbformat": 4,
 "nbformat_minor": 4
}
